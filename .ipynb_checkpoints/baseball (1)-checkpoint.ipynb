{
 "cells": [
  {
   "cell_type": "code",
   "execution_count": 3,
   "metadata": {
    "nbpresent": {
     "id": "a5891f38-092d-4db5-9885-45eacdd7962f"
    }
   },
   "outputs": [],
   "source": [
    "import matplotlib.pyplot as plt\n",
    "import seaborn as sns\n",
    "import csv\n",
    "# Do not import any other libraries other than those listed here. \n",
    "import numpy as np\n",
    "import pandas as pd\n",
    "import seaborn as sns\n",
    "import sklearn as skl\n",
    "import matplotlib.pyplot as plt\n",
    "from sklearn.datasets import make_regression\n",
    "from sklearn.linear_model import LinearRegression\n",
    "from sklearn.model_selection import train_test_split\n",
    "from sklearn.metrics import mean_squared_error , r2_score\n",
    "data = pd.read_csv(\"player.csv\")\n",
    "\n",
    "indexNames = data[ data['birth_year'] <= 1950 ].index\n",
    "data.drop(indexNames , inplace=True)\n",
    "\n",
    "\n",
    "indexNames = data[data[\"birth_country\"]!= \"USA\"].index\n",
    "data.drop(indexNames , inplace=True)"
   ]
  },
  {
   "cell_type": "code",
   "execution_count": 4,
   "metadata": {
    "nbpresent": {
     "id": "d5d64423-aec7-41ff-87ef-41905b2df255"
    }
   },
   "outputs": [
    {
     "name": "stdout",
     "output_type": "stream",
     "text": [
      "    player_id  birth_year  birth_month  birth_day birth_country birth_state  \\\n",
      "0   aardsda01      1981.0         12.0       27.0           USA          CO   \n",
      "3    aasedo01      1954.0          9.0        8.0           USA          CA   \n",
      "4    abadan01      1972.0          8.0       25.0           USA          FL   \n",
      "12  abbotgl01      1951.0          2.0       16.0           USA          AR   \n",
      "13  abbotje01      1972.0          8.0       17.0           USA          GA   \n",
      "\n",
      "     birth_city  death_year  death_month  death_day  ... name_last  \\\n",
      "0        Denver         NaN          NaN        NaN  ...   Aardsma   \n",
      "3        Orange         NaN          NaN        NaN  ...      Aase   \n",
      "4    Palm Beach         NaN          NaN        NaN  ...      Abad   \n",
      "12  Little Rock         NaN          NaN        NaN  ...    Abbott   \n",
      "13      Atlanta         NaN          NaN        NaN  ...    Abbott   \n",
      "\n",
      "         name_given weight height bats throws       debut  final_game  \\\n",
      "0       David Allan  220.0   75.0    R      R  2004-04-06  2015-08-23   \n",
      "3    Donald William  190.0   75.0    R      R  1977-07-26  1990-10-03   \n",
      "4     Fausto Andres  184.0   73.0    L      L  2001-09-10  2006-04-13   \n",
      "12    William Glenn  200.0   78.0    R      R  1973-07-29  1984-08-08   \n",
      "13  Jeffrey William  190.0   74.0    R      L  1997-06-10  2001-09-29   \n",
      "\n",
      "    retro_id   bbref_id  \n",
      "0   aardd001  aardsda01  \n",
      "3   aased001   aasedo01  \n",
      "4   abada001   abadan01  \n",
      "12  abbog001  abbotgl01  \n",
      "13  abboj002  abbotje01  \n",
      "\n",
      "[5 rows x 24 columns]\n"
     ]
    }
   ],
   "source": [
    "print(data.head(5))"
   ]
  },
  {
   "cell_type": "code",
   "execution_count": 5,
   "metadata": {
    "nbpresent": {
     "id": "e91bfb73-45e3-4ca6-91b3-92186e089a87"
    }
   },
   "outputs": [
    {
     "name": "stdout",
     "output_type": "stream",
     "text": [
      "0        12.0\n",
      "3         9.0\n",
      "4         8.0\n",
      "12        2.0\n",
      "13        8.0\n",
      "         ... \n",
      "18838    11.0\n",
      "18839     3.0\n",
      "18840     8.0\n",
      "18842    10.0\n",
      "18845     8.0\n",
      "Name: birth_month, Length: 5994, dtype: float64\n"
     ]
    }
   ],
   "source": [
    "print(data[\"birth_month\"])"
   ]
  },
  {
   "cell_type": "code",
   "execution_count": 18,
   "metadata": {
    "nbpresent": {
     "id": "8c385b76-45d9-4f6e-9fa9-dd116c3b3ef2"
    }
   },
   "outputs": [
    {
     "data": {
      "text/plain": [
       "8.0     652\n",
       "9.0     584\n",
       "10.0    564\n",
       "11.0    499\n",
       "1.0     495\n",
       "12.0    479\n",
       "3.0     475\n",
       "4.0     475\n",
       "5.0     439\n",
       "2.0     436\n",
       "6.0     413\n",
       "7.0     410\n",
       "Name: birth_month, dtype: int64"
      ]
     },
     "execution_count": 18,
     "metadata": {},
     "output_type": "execute_result"
    }
   ],
   "source": [
    "x = data[\"birth_month\"].value_counts()"
   ]
  },
  {
   "cell_type": "code",
   "execution_count": 19,
   "metadata": {
    "nbpresent": {
     "id": "4b8cd4cf-e50b-4967-ace6-7277bf1c9c1b"
    }
   },
   "outputs": [
    {
     "name": "stdout",
     "output_type": "stream",
     "text": [
      "495\n"
     ]
    }
   ],
   "source": [
    "print(x)"
   ]
  },
  {
   "cell_type": "code",
   "execution_count": null,
   "metadata": {},
   "outputs": [],
   "source": []
  },
  {
   "cell_type": "code",
   "execution_count": null,
   "metadata": {},
   "outputs": [],
   "source": []
  }
 ],
 "metadata": {
  "anaconda-cloud": {},
  "kernelspec": {
   "display_name": "Python 3",
   "language": "python",
   "name": "python3"
  },
  "language_info": {
   "codemirror_mode": {
    "name": "ipython",
    "version": 3
   },
   "file_extension": ".py",
   "mimetype": "text/x-python",
   "name": "python",
   "nbconvert_exporter": "python",
   "pygments_lexer": "ipython3",
   "version": "3.7.4"
  },
  "nbpresent": {
   "slides": {
    "04599684-cb7e-4819-b655-0bb4a36b39eb": {
     "id": "04599684-cb7e-4819-b655-0bb4a36b39eb",
     "prev": "b84f4894-4c6f-4326-a970-05aa58fda718",
     "regions": {
      "bbe9010f-09bb-412c-a45c-175c64d2ebe7": {
       "attrs": {
        "height": 0.8,
        "width": 0.8,
        "x": 0.1,
        "y": 0.1
       },
       "content": {
        "cell": "e91bfb73-45e3-4ca6-91b3-92186e089a87",
        "part": "whole"
       },
       "id": "bbe9010f-09bb-412c-a45c-175c64d2ebe7"
      }
     }
    },
    "0ec3a94b-b374-4ecb-a73a-1815ca0a6dd7": {
     "id": "0ec3a94b-b374-4ecb-a73a-1815ca0a6dd7",
     "prev": "b7751f96-d3bb-421e-bd85-6fb6dcfb7de5",
     "regions": {
      "a66ccbd2-0ab9-405e-88f2-7820b89401c3": {
       "attrs": {
        "height": 0.8,
        "width": 0.8,
        "x": 0.1,
        "y": 0.1
       },
       "content": {
        "cell": "d5d64423-aec7-41ff-87ef-41905b2df255",
        "part": "whole"
       },
       "id": "a66ccbd2-0ab9-405e-88f2-7820b89401c3"
      }
     }
    },
    "325a66cd-9263-421b-bca8-5ec9511e5498": {
     "id": "325a66cd-9263-421b-bca8-5ec9511e5498",
     "prev": "04599684-cb7e-4819-b655-0bb4a36b39eb",
     "regions": {
      "6f241a79-e2f9-423e-b869-41701210a198": {
       "attrs": {
        "height": 0.8,
        "width": 0.8,
        "x": 0.1,
        "y": 0.1
       },
       "content": {
        "cell": "8c385b76-45d9-4f6e-9fa9-dd116c3b3ef2",
        "part": "whole"
       },
       "id": "6f241a79-e2f9-423e-b869-41701210a198"
      }
     }
    },
    "4d783ccc-446f-4e3c-aeab-120b336f6a66": {
     "id": "4d783ccc-446f-4e3c-aeab-120b336f6a66",
     "prev": "325a66cd-9263-421b-bca8-5ec9511e5498",
     "regions": {
      "710d02c3-9699-49ad-ace9-2d611a4f5c49": {
       "attrs": {
        "height": 0.8,
        "width": 0.8,
        "x": 0.1,
        "y": 0.1
       },
       "content": {
        "cell": "4b8cd4cf-e50b-4967-ace6-7277bf1c9c1b",
        "part": "whole"
       },
       "id": "710d02c3-9699-49ad-ace9-2d611a4f5c49"
      }
     }
    },
    "8bc664db-42ac-471c-9b14-9ad834d2dcdf": {
     "id": "8bc664db-42ac-471c-9b14-9ad834d2dcdf",
     "prev": "0ec3a94b-b374-4ecb-a73a-1815ca0a6dd7",
     "regions": {
      "53545ca6-b498-419f-abd4-206e4d399267": {
       "attrs": {
        "height": 0.8,
        "width": 0.8,
        "x": 0.1,
        "y": 0.1
       },
       "content": {
        "cell": "373c5eff-a491-46e5-b93e-8ae011ee00bc",
        "part": "whole"
       },
       "id": "53545ca6-b498-419f-abd4-206e4d399267"
      }
     }
    },
    "b7751f96-d3bb-421e-bd85-6fb6dcfb7de5": {
     "id": "b7751f96-d3bb-421e-bd85-6fb6dcfb7de5",
     "prev": null,
     "regions": {
      "bb19abc6-1eb3-4cda-96e6-0768c454b306": {
       "attrs": {
        "height": 0.8,
        "width": 0.8,
        "x": 0.1,
        "y": 0.1
       },
       "content": {
        "cell": "a5891f38-092d-4db5-9885-45eacdd7962f",
        "part": "whole"
       },
       "id": "bb19abc6-1eb3-4cda-96e6-0768c454b306"
      }
     }
    },
    "b84f4894-4c6f-4326-a970-05aa58fda718": {
     "id": "b84f4894-4c6f-4326-a970-05aa58fda718",
     "prev": "8bc664db-42ac-471c-9b14-9ad834d2dcdf",
     "regions": {
      "6e44d243-a3cd-4309-8cb5-68918de350fe": {
       "attrs": {
        "height": 0.8,
        "width": 0.8,
        "x": 0.1,
        "y": 0.1
       },
       "content": {
        "cell": "fd95d994-4ddd-4670-8f5e-d4bef648ceaf",
        "part": "whole"
       },
       "id": "6e44d243-a3cd-4309-8cb5-68918de350fe"
      }
     }
    }
   },
   "themes": {}
  }
 },
 "nbformat": 4,
 "nbformat_minor": 1
}
