{
 "cells": [
  {
   "cell_type": "code",
   "execution_count": 1,
   "metadata": {
    "nbpresent": {
     "id": "a5891f38-092d-4db5-9885-45eacdd7962f"
    }
   },
   "outputs": [],
   "source": [
    "import matplotlib.pyplot as plt\n",
    "import seaborn as sns\n",
    "import csv\n",
    "file = r'player.csv'\n",
    "results = []\n",
    "with open(file) as csvfile:\n",
    "    reader = csv.reader(csvfile) \n",
    "    for row in reader: \n",
    "        results.append(row)\n",
    "results=results[1:]"
   ]
  },
  {
   "cell_type": "code",
   "execution_count": 2,
   "metadata": {
    "nbpresent": {
     "id": "d5d64423-aec7-41ff-87ef-41905b2df255"
    }
   },
   "outputs": [],
   "source": [
    "mon=[]\n",
    "for i in results:\n",
    "    if(len(i[1])>0):\n",
    "        if(float(i[1])>1960):\n",
    "            mon.append(i[2])\n",
    "fin=[]\n",
    "for i in mon:\n",
    "    if(len(i)>0):\n",
    "        fin.append(i)\n"
   ]
  },
  {
   "cell_type": "code",
   "execution_count": 3,
   "metadata": {
    "nbpresent": {
     "id": "373c5eff-a491-46e5-b93e-8ae011ee00bc"
    }
   },
   "outputs": [
    {
     "data": {
      "text/plain": [
       "{'12.0': 480,\n",
       " '8.0': 640,\n",
       " '9.0': 545,\n",
       " '6.0': 427,\n",
       " '2.0': 455,\n",
       " '7.0': 409,\n",
       " '3.0': 493,\n",
       " '1.0': 521,\n",
       " '4.0': 497,\n",
       " '11.0': 516,\n",
       " '5.0': 478,\n",
       " '10.0': 550}"
      ]
     },
     "execution_count": 3,
     "metadata": {},
     "output_type": "execute_result"
    }
   ],
   "source": [
    "dic={}\n",
    "for i in fin:\n",
    "    if(i in dic):\n",
    "        dic[i]+=1\n",
    "    else:\n",
    "        dic[i]=1\n",
    "dic"
   ]
  },
  {
   "cell_type": "code",
   "execution_count": 4,
   "metadata": {
    "nbpresent": {
     "id": "fd95d994-4ddd-4670-8f5e-d4bef648ceaf"
    },
    "scrolled": true
   },
   "outputs": [
    {
     "data": {
      "text/plain": [
       "500.9166666666667"
      ]
     },
     "execution_count": 4,
     "metadata": {},
     "output_type": "execute_result"
    }
   ],
   "source": [
    "c=0\n",
    "for i in dic:\n",
    "    c+=dic[i]\n",
    "c/12.0"
   ]
  },
  {
   "cell_type": "code",
   "execution_count": 5,
   "metadata": {
    "nbpresent": {
     "id": "e91bfb73-45e3-4ca6-91b3-92186e089a87"
    }
   },
   "outputs": [
    {
     "data": {
      "image/png": "[encoded data removed]",
      "text/plain": [
       "<Figure size 504x504 with 1 Axes>"
      ]
     },
     "metadata": {
      "needs_background": "light"
     },
     "output_type": "display_data"
    }
   ],
   "source": [
    "x = [1.0,2.0,3.0,4.0,5.0,6.0,7.0,8.0,9.0,10.0,11.0,12.0]\n",
    "\n",
    "y=[]\n",
    "for i in x:\n",
    "    y.append(dic[str(i)])\n",
    "\n",
    "plt.figure(figsize=(7,7))\n",
    "\n",
    "plt.rcParams['font.size'] = 12\n",
    "\n",
    "plt.plot(x, y)\n",
    "\n",
    "\n",
    "plt.xlabel('Months')\n",
    "\n",
    "plt.ylabel('Births')\n",
    " \n",
    "\n",
    "plt.title(\"Baseball Players' birth months\")\n",
    "\n",
    "plt.show()"
   ]
  },
  {
   "cell_type": "code",
   "execution_count": null,
   "metadata": {
    "nbpresent": {
     "id": "8c385b76-45d9-4f6e-9fa9-dd116c3b3ef2"
    }
   },
   "outputs": [],
   "source": []
  },
  {
   "cell_type": "code",
   "execution_count": null,
   "metadata": {
    "collapsed": true,
    "nbpresent": {
     "id": "4b8cd4cf-e50b-4967-ace6-7277bf1c9c1b"
    }
   },
   "outputs": [],
   "source": []
  }
 ],
 "metadata": {
  "anaconda-cloud": {},
  "kernelspec": {
   "display_name": "Python 3",
   "language": "python",
   "name": "python3"
  },
  "language_info": {
   "codemirror_mode": {
    "name": "ipython",
    "version": 3
   },
   "file_extension": ".py",
   "mimetype": "text/x-python",
   "name": "python",
   "nbconvert_exporter": "python",
   "pygments_lexer": "ipython3",
   "version": "3.7.4"
  },
  "nbpresent": {
   "slides": {
    "04599684-cb7e-4819-b655-0bb4a36b39eb": {
     "id": "04599684-cb7e-4819-b655-0bb4a36b39eb",
     "prev": "b84f4894-4c6f-4326-a970-05aa58fda718",
     "regions": {
      "bbe9010f-09bb-412c-a45c-175c64d2ebe7": {
       "attrs": {
        "height": 0.8,
        "width": 0.8,
        "x": 0.1,
        "y": 0.1
       },
       "content": {
        "cell": "e91bfb73-45e3-4ca6-91b3-92186e089a87",
        "part": "whole"
       },
       "id": "bbe9010f-09bb-412c-a45c-175c64d2ebe7"
      }
     }
    },
    "0ec3a94b-b374-4ecb-a73a-1815ca0a6dd7": {
     "id": "0ec3a94b-b374-4ecb-a73a-1815ca0a6dd7",
     "prev": "b7751f96-d3bb-421e-bd85-6fb6dcfb7de5",
     "regions": {
      "a66ccbd2-0ab9-405e-88f2-7820b89401c3": {
       "attrs": {
        "height": 0.8,
        "width": 0.8,
        "x": 0.1,
        "y": 0.1
       },
       "content": {
        "cell": "d5d64423-aec7-41ff-87ef-41905b2df255",
        "part": "whole"
       },
       "id": "a66ccbd2-0ab9-405e-88f2-7820b89401c3"
      }
     }
    },
    "325a66cd-9263-421b-bca8-5ec9511e5498": {
     "id": "325a66cd-9263-421b-bca8-5ec9511e5498",
     "prev": "04599684-cb7e-4819-b655-0bb4a36b39eb",
     "regions": {
      "6f241a79-e2f9-423e-b869-41701210a198": {
       "attrs": {
        "height": 0.8,
        "width": 0.8,
        "x": 0.1,
        "y": 0.1
       },
       "content": {
        "cell": "8c385b76-45d9-4f6e-9fa9-dd116c3b3ef2",
        "part": "whole"
       },
       "id": "6f241a79-e2f9-423e-b869-41701210a198"
      }
     }
    },
    "4d783ccc-446f-4e3c-aeab-120b336f6a66": {
     "id": "4d783ccc-446f-4e3c-aeab-120b336f6a66",
     "prev": "325a66cd-9263-421b-bca8-5ec9511e5498",
     "regions": {
      "710d02c3-9699-49ad-ace9-2d611a4f5c49": {
       "attrs": {
        "height": 0.8,
        "width": 0.8,
        "x": 0.1,
        "y": 0.1
       },
       "content": {
        "cell": "4b8cd4cf-e50b-4967-ace6-7277bf1c9c1b",
        "part": "whole"
       },
       "id": "710d02c3-9699-49ad-ace9-2d611a4f5c49"
      }
     }
    },
    "8bc664db-42ac-471c-9b14-9ad834d2dcdf": {
     "id": "8bc664db-42ac-471c-9b14-9ad834d2dcdf",
     "prev": "0ec3a94b-b374-4ecb-a73a-1815ca0a6dd7",
     "regions": {
      "53545ca6-b498-419f-abd4-206e4d399267": {
       "attrs": {
        "height": 0.8,
        "width": 0.8,
        "x": 0.1,
        "y": 0.1
       },
       "content": {
        "cell": "373c5eff-a491-46e5-b93e-8ae011ee00bc",
        "part": "whole"
       },
       "id": "53545ca6-b498-419f-abd4-206e4d399267"
      }
     }
    },
    "b7751f96-d3bb-421e-bd85-6fb6dcfb7de5": {
     "id": "b7751f96-d3bb-421e-bd85-6fb6dcfb7de5",
     "prev": null,
     "regions": {
      "bb19abc6-1eb3-4cda-96e6-0768c454b306": {
       "attrs": {
        "height": 0.8,
        "width": 0.8,
        "x": 0.1,
        "y": 0.1
       },
       "content": {
        "cell": "a5891f38-092d-4db5-9885-45eacdd7962f",
        "part": "whole"
       },
       "id": "bb19abc6-1eb3-4cda-96e6-0768c454b306"
      }
     }
    },
    "b84f4894-4c6f-4326-a970-05aa58fda718": {
     "id": "b84f4894-4c6f-4326-a970-05aa58fda718",
     "prev": "8bc664db-42ac-471c-9b14-9ad834d2dcdf",
     "regions": {
      "6e44d243-a3cd-4309-8cb5-68918de350fe": {
       "attrs": {
        "height": 0.8,
        "width": 0.8,
        "x": 0.1,
        "y": 0.1
       },
       "content": {
        "cell": "fd95d994-4ddd-4670-8f5e-d4bef648ceaf",
        "part": "whole"
       },
       "id": "6e44d243-a3cd-4309-8cb5-68918de350fe"
      }
     }
    }
   },
   "themes": {}
  }
 },
 "nbformat": 4,
 "nbformat_minor": 1
}
